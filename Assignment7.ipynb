{
  "nbformat": 4,
  "nbformat_minor": 0,
  "metadata": {
    "colab": {
      "provenance": [],
      "authorship_tag": "ABX9TyNqOgJQ5Ed5OaoBBM0ulJLE",
      "include_colab_link": true
    },
    "kernelspec": {
      "name": "python3",
      "display_name": "Python 3"
    },
    "language_info": {
      "name": "python"
    }
  },
  "cells": [
    {
      "cell_type": "markdown",
      "metadata": {
        "id": "view-in-github",
        "colab_type": "text"
      },
      "source": [
        "<a href=\"https://colab.research.google.com/github/Ayyappa9105/ML_workshop/blob/main/Assignment7.ipynb\" target=\"_parent\"><img src=\"https://colab.research.google.com/assets/colab-badge.svg\" alt=\"Open In Colab\"/></a>"
      ]
    },
    {
      "cell_type": "code",
      "execution_count": 8,
      "metadata": {
        "colab": {
          "base_uri": "https://localhost:8080/"
        },
        "id": "RGx5DfmwDU0x",
        "outputId": "bf7a6868-ebd1-4937-83f6-8a22aff7b9bb"
      },
      "outputs": [
        {
          "output_type": "stream",
          "name": "stdout",
          "text": [
            "Logistic Regression: Accuracy=1.0000, Precision=1.0000, Recall=1.0000, F1-Score=1.0000\n",
            "Naive Bayes: Accuracy=0.9778, Precision=0.9794, Recall=0.9778, F1-Score=0.9777\n",
            "KNN: Accuracy=1.0000, Precision=1.0000, Recall=1.0000, F1-Score=1.0000\n",
            "Decision Tree: Accuracy=1.0000, Precision=1.0000, Recall=1.0000, F1-Score=1.0000\n",
            "SVC: Accuracy=1.0000, Precision=1.0000, Recall=1.0000, F1-Score=1.0000\n"
          ]
        }
      ],
      "source": [
        "# Importing necessary libraries\n",
        "from sklearn import datasets\n",
        "from sklearn.model_selection import train_test_split\n",
        "from sklearn.preprocessing import StandardScaler\n",
        "from sklearn.linear_model import LogisticRegression\n",
        "from sklearn.naive_bayes import GaussianNB\n",
        "from sklearn.neighbors import KNeighborsClassifier\n",
        "from sklearn.tree import DecisionTreeClassifier\n",
        "from sklearn.svm import SVC\n",
        "from sklearn.metrics import accuracy_score, precision_score, recall_score, f1_score\n",
        "\n",
        "# Load the Iris dataset\n",
        "iris = datasets.load_iris()\n",
        "X = iris.data\n",
        "y = iris.target\n",
        "\n",
        "# Split the dataset into training and test sets\n",
        "X_train, X_test, y_train, y_test = train_test_split(X, y, test_size=0.3, random_state=42)\n",
        "\n",
        "# Feature scaling (important for KNN and SVC)\n",
        "scaler = StandardScaler()\n",
        "X_train_scaled = scaler.fit_transform(X_train)\n",
        "X_test_scaled = scaler.transform(X_test)\n",
        "\n",
        "# Define a function to train and evaluate models\n",
        "def evaluate_model(model, X_train, X_test, y_train, y_test):\n",
        "    # Train the model\n",
        "    model.fit(X_train, y_train)\n",
        "\n",
        "    # Make predictions\n",
        "    y_pred = model.predict(X_test)\n",
        "\n",
        "    # Calculate metrics\n",
        "    accuracy = accuracy_score(y_test, y_pred)\n",
        "    precision = precision_score(y_test, y_pred, average='weighted')\n",
        "    recall = recall_score(y_test, y_pred, average='weighted')\n",
        "    f1 = f1_score(y_test, y_pred, average='weighted')\n",
        "\n",
        "    return accuracy, precision, recall, f1\n",
        "\n",
        "# Logistic Regression\n",
        "log_reg = LogisticRegression(max_iter=200)\n",
        "log_reg_results = evaluate_model(log_reg, X_train_scaled, X_test_scaled, y_train, y_test)\n",
        "\n",
        "# Naive Bayes\n",
        "nb = GaussianNB()\n",
        "nb_results = evaluate_model(nb, X_train, X_test, y_train, y_test)\n",
        "\n",
        "# K-Nearest Neighbors\n",
        "knn = KNeighborsClassifier()\n",
        "knn_results = evaluate_model(knn, X_train_scaled, X_test_scaled, y_train, y_test)\n",
        "\n",
        "# Decision Tree\n",
        "dt = DecisionTreeClassifier()\n",
        "dt_results = evaluate_model(dt, X_train, X_test, y_train, y_test)\n",
        "\n",
        "# Support Vector Classifier\n",
        "svc = SVC()\n",
        "svc_results = evaluate_model(svc, X_train_scaled, X_test_scaled, y_train, y_test)\n",
        "\n",
        "# Print results for each model\n",
        "models = ['Logistic Regression', 'Naive Bayes', 'KNN', 'Decision Tree', 'SVC']\n",
        "results = [log_reg_results, nb_results, knn_results, dt_results, svc_results]\n",
        "\n",
        "for model, result in zip(models, results):\n",
        "    print(f\"{model}: Accuracy={result[0]:.4f}, Precision={result[1]:.4f}, Recall={result[2]:.4f}, F1-Score={result[3]:.4f}\")\n"
      ]
    }
  ]
}