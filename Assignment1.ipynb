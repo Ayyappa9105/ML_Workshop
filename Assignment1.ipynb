{
  "nbformat": 4,
  "nbformat_minor": 0,
  "metadata": {
    "colab": {
      "provenance": [],
      "authorship_tag": "ABX9TyNXM24MaVc6CWpWLbQMEtls",
      "include_colab_link": true
    },
    "kernelspec": {
      "name": "python3",
      "display_name": "Python 3"
    },
    "language_info": {
      "name": "python"
    }
  },
  "cells": [
    {
      "cell_type": "markdown",
      "metadata": {
        "id": "view-in-github",
        "colab_type": "text"
      },
      "source": [
        "<a href=\"https://colab.research.google.com/github/Ayyappa9105/ML_workshop/blob/main/Assignment1.ipynb\" target=\"_parent\"><img src=\"https://colab.research.google.com/assets/colab-badge.svg\" alt=\"Open In Colab\"/></a>"
      ]
    },
    {
      "cell_type": "markdown",
      "source": [
        " 1. Perform arithmetic operations on NumPy arrays."
      ],
      "metadata": {
        "id": "jhfMfSd6A-cK"
      }
    },
    {
      "cell_type": "code",
      "source": [
        "import numpy as np"
      ],
      "metadata": {
        "id": "B8aw5hh3BMS0"
      },
      "execution_count": null,
      "outputs": []
    },
    {
      "cell_type": "code",
      "source": [
        "a=np.array([[1,2,3],[1,2,3]])\n",
        "a.shape"
      ],
      "metadata": {
        "colab": {
          "base_uri": "https://localhost:8080/"
        },
        "id": "SlNIBQlSBcrz",
        "outputId": "af7420e8-0d1c-4142-ad29-35e52d71a60c"
      },
      "execution_count": null,
      "outputs": [
        {
          "output_type": "execute_result",
          "data": {
            "text/plain": [
              "(2, 3)"
            ]
          },
          "metadata": {},
          "execution_count": 2
        }
      ]
    },
    {
      "cell_type": "code",
      "source": [
        "b=np.array([[4,5,6],[4,5,6]])\n",
        "b.shape"
      ],
      "metadata": {
        "colab": {
          "base_uri": "https://localhost:8080/"
        },
        "id": "ZqcU0jrTB9gS",
        "outputId": "b626327d-b8d4-4c08-b285-bb8faecbd5ba"
      },
      "execution_count": null,
      "outputs": [
        {
          "output_type": "execute_result",
          "data": {
            "text/plain": [
              "(2, 3)"
            ]
          },
          "metadata": {},
          "execution_count": 4
        }
      ]
    },
    {
      "cell_type": "code",
      "source": [
        "print(\"a is \\n\",a)\n",
        "print(\"b is \\n\",b)\n",
        "print(\"sum of two arrays is \\n \",(a+b))"
      ],
      "metadata": {
        "colab": {
          "base_uri": "https://localhost:8080/"
        },
        "id": "GIFa7e7SCPtw",
        "outputId": "2dfe0b99-6939-41b6-afef-d6db3464aa7a"
      },
      "execution_count": null,
      "outputs": [
        {
          "output_type": "stream",
          "name": "stdout",
          "text": [
            "a is \n",
            " [[1 2 3]\n",
            " [1 2 3]]\n",
            "b is \n",
            " [[4 5 6]\n",
            " [4 5 6]]\n",
            "sum of two arrays is \n",
            "  [[5 7 9]\n",
            " [5 7 9]]\n"
          ]
        }
      ]
    },
    {
      "cell_type": "markdown",
      "source": [
        "2. Write a script to compute the mean and standard deviation of a NumPy array."
      ],
      "metadata": {
        "id": "olQq2sObEAe_"
      }
    },
    {
      "cell_type": "markdown",
      "source": [
        "Mean :- The average of the values.In numpy there is a method mean.\n",
        "we  can use it as np.mean(array_name)\n",
        "Standard deviation Mean :- it is the extended data mean of the values.In numpy there is a method mean.\n",
        "we  can use it as np.std(array_name)"
      ],
      "metadata": {
        "id": "VjEbJLr6FM91"
      }
    },
    {
      "cell_type": "code",
      "source": [
        "import numpy as np"
      ],
      "metadata": {
        "id": "l5keTDpEGIEV"
      },
      "execution_count": null,
      "outputs": []
    },
    {
      "cell_type": "code",
      "source": [
        "c=np.array([1,2,3,4,5,6,7,8,9,1,2,3])\n",
        "print(np.mean(c))\n",
        "print(np.std(c))"
      ],
      "metadata": {
        "colab": {
          "base_uri": "https://localhost:8080/"
        },
        "id": "ke4VNdQaGLnr",
        "outputId": "32a58b24-f448-4e97-b0ff-80303f318186"
      },
      "execution_count": null,
      "outputs": [
        {
          "output_type": "stream",
          "name": "stdout",
          "text": [
            "4.25\n",
            "2.6180463454008347\n"
          ]
        }
      ]
    },
    {
      "cell_type": "markdown",
      "source": [
        "3. Create a NumPy array of integers from 10 to 50 with a step size of 5."
      ],
      "metadata": {
        "id": "a2n7yTBPHm3h"
      }
    },
    {
      "cell_type": "code",
      "source": [
        "import numpy as np"
      ],
      "metadata": {
        "id": "TSxHLLGTHpK6"
      },
      "execution_count": null,
      "outputs": []
    },
    {
      "cell_type": "code",
      "source": [
        "d=np.arange(10,50,5)\n",
        "print(d)"
      ],
      "metadata": {
        "colab": {
          "base_uri": "https://localhost:8080/"
        },
        "id": "DqdKNOxDIGKm",
        "outputId": "53511f46-2f76-4023-8955-b3b1d6320596"
      },
      "execution_count": null,
      "outputs": [
        {
          "output_type": "stream",
          "name": "stdout",
          "text": [
            "[10 15 20 25 30 35 40 45]\n"
          ]
        }
      ]
    },
    {
      "cell_type": "markdown",
      "source": [
        "4. Reshape the array into a 2x4 matrix."
      ],
      "metadata": {
        "id": "9WFMgu5EIgA4"
      }
    },
    {
      "cell_type": "code",
      "source": [
        "import numpy as np"
      ],
      "metadata": {
        "id": "xfmfy7wMI3kB"
      },
      "execution_count": null,
      "outputs": []
    },
    {
      "cell_type": "code",
      "source": [
        "a=np.array([1,2,3,4,5,6,7,8])\n",
        "b=a.reshape(2,4)\n",
        "print(\"array is\",a)\n",
        "print(\"2X4 matrices is \\n\",b)"
      ],
      "metadata": {
        "colab": {
          "base_uri": "https://localhost:8080/"
        },
        "id": "3cFOkdwHI8RH",
        "outputId": "9fc8e1df-1fda-4b0a-927c-d690ad22dbd4"
      },
      "execution_count": null,
      "outputs": [
        {
          "output_type": "stream",
          "name": "stdout",
          "text": [
            "array is [1 2 3 4 5 6 7 8]\n",
            "2X4 matrices is \n",
            " [[1 2 3 4]\n",
            " [5 6 7 8]]\n"
          ]
        }
      ]
    },
    {
      "cell_type": "markdown",
      "source": [
        "5. Given the array arr = np.array([[1, 2, 3], [4, 5, 6], [7, 8, 9]]):\n",
        "• Extract the sub-matrix containing the last two rows and first two columns.\n",
        "• Replace all elements greater than 4 with 0."
      ],
      "metadata": {
        "id": "bfgAg1iOJ4G2"
      }
    },
    {
      "cell_type": "code",
      "source": [
        "import numpy as np"
      ],
      "metadata": {
        "id": "Pw9YJaJ_J5lq"
      },
      "execution_count": null,
      "outputs": []
    },
    {
      "cell_type": "code",
      "source": [
        "arr = np.array([[1, 2, 3], [4, 5, 6], [7, 8, 9]])\n",
        "print(arr)\n",
        "a=arr[1:,1:]\n",
        "print(\"the matrices which contains last two rows and two colums \\n\",a)\n",
        "arr[arr>4]=0\n",
        "print(\"replace all elements which are greate than 4 with 0 \\n\",arr)"
      ],
      "metadata": {
        "colab": {
          "base_uri": "https://localhost:8080/"
        },
        "id": "lOmkKmZzNanS",
        "outputId": "2fb4e5ee-5292-4383-e4ae-2f8d3432925a"
      },
      "execution_count": null,
      "outputs": [
        {
          "output_type": "stream",
          "name": "stdout",
          "text": [
            "[[1 2 3]\n",
            " [4 5 6]\n",
            " [7 8 9]]\n",
            "the matrices which contains last two rows and two colums \n",
            " [[5 6]\n",
            " [8 9]]\n",
            "replace all elements which are greate than 4 with 0 [[1 2 3]\n",
            " [4 0 0]\n",
            " [0 0 0]]\n"
          ]
        }
      ]
    },
    {
      "cell_type": "markdown",
      "source": [
        "6.  Create two 1D arrays:\n",
        "• a = np.array([1, 2, 3])\n",
        "• b = np.array([4, 5, 6])\n",
        "• Perform element-wise addition, multiplication, and division."
      ],
      "metadata": {
        "id": "eff5Y9FwOxGP"
      }
    },
    {
      "cell_type": "code",
      "source": [
        "import numpy as np"
      ],
      "metadata": {
        "id": "fx-LWbYVO8zW"
      },
      "execution_count": null,
      "outputs": []
    },
    {
      "cell_type": "code",
      "source": [
        "a = np.array([1, 2, 3])\n",
        "b = np.array([4, 5, 6])\n",
        "print(\"array a is\",a)\n",
        "print(\"array b is\",b)\n",
        "print(\"addition:\",a+b)\n",
        "print(\"multiplication:\",a*b)\n",
        "print(\"Division:\",a/b)"
      ],
      "metadata": {
        "colab": {
          "base_uri": "https://localhost:8080/"
        },
        "id": "tFehgeX2O_8r",
        "outputId": "6e302090-eb9b-42fc-8509-55ca67b17a75"
      },
      "execution_count": null,
      "outputs": [
        {
          "output_type": "stream",
          "name": "stdout",
          "text": [
            "array a is [1 2 3]\n",
            "array b is [4 5 6]\n",
            "addition: [5 7 9]\n",
            "multiplication: [ 4 10 18]\n",
            "Division: [0.25 0.4  0.5 ]\n"
          ]
        }
      ]
    },
    {
      "cell_type": "markdown",
      "source": [
        " 7. Create a random NumPy array of size (4, 4). Compute:\n",
        "• Mean of each column.\n",
        "• Maximum value of the entire array.\n",
        "• Sum of all elements."
      ],
      "metadata": {
        "id": "RNbX9d03Pywj"
      }
    },
    {
      "cell_type": "code",
      "source": [
        "import numpy as np"
      ],
      "metadata": {
        "id": "-19xzyydXHWL"
      },
      "execution_count": null,
      "outputs": []
    },
    {
      "cell_type": "code",
      "source": [
        "arr=np.array([[[[1,2,3,4],[1,2,3,4],[1,2,5,4],[1,2,3,4]]]])\n",
        "max_val=np.max(arr)\n",
        "print(max_val)\n",
        "c1=arr[:,:,:,0]\n",
        "print(np.mean(c1))\n",
        "c2=arr[:,:,:,1]\n",
        "print(np.mean(c2))\n",
        "c3=arr[:,:,:,2]\n",
        "print(np.mean(c3))\n",
        "c4=arr[:,:,:,3]\n",
        "print(np.mean(c4))\n",
        "print(np.sum(arr))\n",
        "\n",
        "\n"
      ],
      "metadata": {
        "colab": {
          "base_uri": "https://localhost:8080/"
        },
        "id": "RLKsE5K2XS9q",
        "outputId": "6ac56402-3f1a-49cc-db1e-dd5330dc4bc2"
      },
      "execution_count": null,
      "outputs": [
        {
          "output_type": "stream",
          "name": "stdout",
          "text": [
            "5\n",
            "1.0\n",
            "2.0\n",
            "3.5\n",
            "4.0\n",
            "42\n"
          ]
        }
      ]
    },
    {
      "cell_type": "markdown",
      "source": [
        "8.  Given the array arr = np.array([1, 2, 3, 4]), add 10 to each element and multiply\n",
        "the result by 2."
      ],
      "metadata": {
        "id": "Q4PT4zLceW2R"
      }
    },
    {
      "cell_type": "code",
      "source": [
        "import numpy as np\n",
        "arr = np.array([1, 2, 3, 4])\n",
        "r=(arr+10)*2\n",
        "print(r)\n",
        "\n"
      ],
      "metadata": {
        "colab": {
          "base_uri": "https://localhost:8080/"
        },
        "id": "LnkuoGnrendR",
        "outputId": "a85c3e2e-8680-4bc8-9277-685f83111fde"
      },
      "execution_count": null,
      "outputs": [
        {
          "output_type": "stream",
          "name": "stdout",
          "text": [
            "[22 24 26 28]\n"
          ]
        }
      ]
    },
    {
      "cell_type": "markdown",
      "source": [
        "9. Perform advanced slicing and indexing on a 3D array.\n",
        "Create a 3D NumPy array arr of shape (3, 4, 5) with random integers ranging from\n",
        "1 to 100. Perform the following:\n",
        "• Extract the second \"layer\" (i.e., the second 2D array) in the first dimension.\n",
        "• Extract the first two rows and the last three columns from each \"layer.\"\n",
        "• Replace all elements divisible by 3 with -1."
      ],
      "metadata": {
        "id": "IQbYiyNahHnC"
      }
    },
    {
      "cell_type": "code",
      "source": [
        "import numpy as np"
      ],
      "metadata": {
        "id": "jZr-q_o6hWfo"
      },
      "execution_count": null,
      "outputs": []
    },
    {
      "cell_type": "code",
      "source": [
        "arr = np.random.randint(1, 101, size=(3, 4, 5))\n",
        "print(\"3D array is \\n\",arr)\n",
        "a1=arr[1]\n",
        "print(\"second layer \\n\",a1)\n",
        "a2=arr[:,:2,0:3]\n",
        "print(\"first two rows and last three colums from each layer \\n\",a2)\n",
        "arr[arr%3==0]=-1\n",
        "print(\"Repalced by -1 \\n\",arr)"
      ],
      "metadata": {
        "colab": {
          "base_uri": "https://localhost:8080/"
        },
        "id": "un5ytdrxhaZn",
        "outputId": "116b2959-7588-4802-f923-d625ac9820e8"
      },
      "execution_count": null,
      "outputs": [
        {
          "output_type": "stream",
          "name": "stdout",
          "text": [
            "3D array is \n",
            " [[[25 51 33 25 44]\n",
            "  [29 78  6 29 80]\n",
            "  [59 18 77 35  9]\n",
            "  [97 98 88 74 48]]\n",
            "\n",
            " [[98 34 10 31 41]\n",
            "  [ 6  9 91 28 57]\n",
            "  [54 40 66 76 50]\n",
            "  [53 98 98 42  2]]\n",
            "\n",
            " [[28 37 80 42 17]\n",
            "  [88 72  5 16 76]\n",
            "  [24 39 76 90 46]\n",
            "  [75 23 60 70 57]]]\n",
            "second layer \n",
            " [[98 34 10 31 41]\n",
            " [ 6  9 91 28 57]\n",
            " [54 40 66 76 50]\n",
            " [53 98 98 42  2]]\n",
            "first two rows and last three colums from each layer \n",
            " [[[25 51 33]\n",
            "  [29 78  6]]\n",
            "\n",
            " [[98 34 10]\n",
            "  [ 6  9 91]]\n",
            "\n",
            " [[28 37 80]\n",
            "  [88 72  5]]]\n",
            "Repalced by -1 \n",
            " [[[25 -1 -1 25 44]\n",
            "  [29 -1 -1 29 80]\n",
            "  [59 -1 77 35 -1]\n",
            "  [97 98 88 74 -1]]\n",
            "\n",
            " [[98 34 10 31 41]\n",
            "  [-1 -1 91 28 -1]\n",
            "  [-1 40 -1 76 50]\n",
            "  [53 98 98 -1  2]]\n",
            "\n",
            " [[28 37 80 -1 17]\n",
            "  [88 -1  5 16 76]\n",
            "  [-1 -1 76 -1 46]\n",
            "  [-1 23 -1 70 -1]]]\n"
          ]
        }
      ]
    },
    {
      "cell_type": "markdown",
      "source": [
        " Work with broadcasting and advanced operations in NumPy.\n",
        "Create a NumPy array arr of shape (3, 3) with random integers between  \n",
        "1 and 20. Perform the following:\n",
        "• Subtract the mean of each row from its respective elements (row-wise\n",
        "normalization).\n",
        "• Create a new array by squaring all the elements in arr.\n",
        "• Find the indices of the top 3 maximum values in the entire array."
      ],
      "metadata": {
        "id": "iBHKkoZlBfs1"
      }
    },
    {
      "cell_type": "code",
      "source": [
        "import  numpy as np"
      ],
      "metadata": {
        "id": "tsyoQ2kICHdM"
      },
      "execution_count": 2,
      "outputs": []
    },
    {
      "cell_type": "code",
      "source": [
        "arr = np.random.randint(1, 21, size=(3, 3))\n",
        "print(\"array is\\n\",arr)\n",
        "r1=arr[0:1]-np.mean(arr[0:1])\n",
        "r2=arr[1:2]-np.mean(arr[1:2])\n",
        "r3=arr[2:3]-np.mean(arr[2:3])\n",
        "print(\"\\n\",r1,\"\\n\",r2,\"\\n\",r3)\n",
        "print(\"square elements array is \\n\",arr**2)\n",
        "b=np.array([10,7,18,93,63,8,45])\n",
        "print(b)\n",
        "top_3_indices = np.unravel_index(np.argsort(arr.ravel())[-3:], arr.shape)\n",
        "print(\"\\nIndices of Top 3 Maximum Values:\",top_3_indices)\n",
        "\n",
        "\n",
        "\n",
        "\n",
        "\n"
      ],
      "metadata": {
        "colab": {
          "base_uri": "https://localhost:8080/"
        },
        "id": "bCPKAIF_DcGa",
        "outputId": "049b51dd-5d58-4e93-f68c-e1fb2ccb1ddc"
      },
      "execution_count": 3,
      "outputs": [
        {
          "output_type": "stream",
          "name": "stdout",
          "text": [
            "array is\n",
            " [[ 1 11  8]\n",
            " [ 8 20  4]\n",
            " [20  3  5]]\n",
            "\n",
            " [[-5.66666667  4.33333333  1.33333333]] \n",
            " [[-2.66666667  9.33333333 -6.66666667]] \n",
            " [[10.66666667 -6.33333333 -4.33333333]]\n",
            "square elements array is \n",
            " [[  1 121  64]\n",
            " [ 64 400  16]\n",
            " [400   9  25]]\n",
            "[10  7 18 93 63  8 45]\n",
            "\n",
            "Indices of Top 3 Maximum Values: (array([0, 1, 2]), array([1, 1, 0]))\n"
          ]
        }
      ]
    }
  ]
}